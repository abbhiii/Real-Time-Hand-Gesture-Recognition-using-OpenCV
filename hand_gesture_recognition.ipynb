{
 "cells": [
  {
   "cell_type": "code",
   "execution_count": null,
   "metadata": {},
   "outputs": [
    {
     "name": "stdout",
     "output_type": "stream",
     "text": [
      "Requirement already satisfied: mediapipe in /Users/abhinavsingh/anaconda3/lib/python3.11/site-packages (0.10.21)\n",
      "Requirement already satisfied: opencv-python in /Users/abhinavsingh/anaconda3/lib/python3.11/site-packages (4.10.0.84)\n",
      "Requirement already satisfied: numpy in /Users/abhinavsingh/anaconda3/lib/python3.11/site-packages (1.26.3)\n",
      "Requirement already satisfied: absl-py in /Users/abhinavsingh/anaconda3/lib/python3.11/site-packages (from mediapipe) (1.4.0)\n",
      "Requirement already satisfied: attrs>=19.1.0 in /Users/abhinavsingh/anaconda3/lib/python3.11/site-packages (from mediapipe) (23.1.0)\n",
      "Requirement already satisfied: flatbuffers>=2.0 in /Users/abhinavsingh/anaconda3/lib/python3.11/site-packages (from mediapipe) (2.0)\n",
      "Requirement already satisfied: jax in /Users/abhinavsingh/anaconda3/lib/python3.11/site-packages (from mediapipe) (0.5.2)\n",
      "Requirement already satisfied: jaxlib in /Users/abhinavsingh/anaconda3/lib/python3.11/site-packages (from mediapipe) (0.5.1)\n",
      "Requirement already satisfied: matplotlib in /Users/abhinavsingh/anaconda3/lib/python3.11/site-packages (from mediapipe) (3.7.2)\n",
      "Requirement already satisfied: opencv-contrib-python in /Users/abhinavsingh/anaconda3/lib/python3.11/site-packages (from mediapipe) (4.11.0.86)\n",
      "Requirement already satisfied: protobuf<5,>=4.25.3 in /Users/abhinavsingh/anaconda3/lib/python3.11/site-packages (from mediapipe) (4.25.6)\n",
      "Requirement already satisfied: sounddevice>=0.4.4 in /Users/abhinavsingh/anaconda3/lib/python3.11/site-packages (from mediapipe) (0.5.1)\n",
      "Requirement already satisfied: sentencepiece in /Users/abhinavsingh/anaconda3/lib/python3.11/site-packages (from mediapipe) (0.2.0)\n",
      "Requirement already satisfied: CFFI>=1.0 in /Users/abhinavsingh/anaconda3/lib/python3.11/site-packages (from sounddevice>=0.4.4->mediapipe) (1.15.1)\n",
      "Requirement already satisfied: ml_dtypes>=0.4.0 in /Users/abhinavsingh/anaconda3/lib/python3.11/site-packages (from jax->mediapipe) (0.5.1)\n",
      "Requirement already satisfied: opt_einsum in /Users/abhinavsingh/anaconda3/lib/python3.11/site-packages (from jax->mediapipe) (3.3.0)\n",
      "Requirement already satisfied: scipy>=1.11.1 in /Users/abhinavsingh/anaconda3/lib/python3.11/site-packages (from jax->mediapipe) (1.11.1)\n",
      "Requirement already satisfied: contourpy>=1.0.1 in /Users/abhinavsingh/anaconda3/lib/python3.11/site-packages (from matplotlib->mediapipe) (1.0.5)\n",
      "Requirement already satisfied: cycler>=0.10 in /Users/abhinavsingh/anaconda3/lib/python3.11/site-packages (from matplotlib->mediapipe) (0.11.0)\n",
      "Requirement already satisfied: fonttools>=4.22.0 in /Users/abhinavsingh/anaconda3/lib/python3.11/site-packages (from matplotlib->mediapipe) (4.25.0)\n",
      "Requirement already satisfied: kiwisolver>=1.0.1 in /Users/abhinavsingh/anaconda3/lib/python3.11/site-packages (from matplotlib->mediapipe) (1.4.4)\n",
      "Requirement already satisfied: packaging>=20.0 in /Users/abhinavsingh/anaconda3/lib/python3.11/site-packages (from matplotlib->mediapipe) (23.1)\n",
      "Requirement already satisfied: pillow>=6.2.0 in /Users/abhinavsingh/anaconda3/lib/python3.11/site-packages (from matplotlib->mediapipe) (10.0.1)\n",
      "Requirement already satisfied: pyparsing<3.1,>=2.3.1 in /Users/abhinavsingh/anaconda3/lib/python3.11/site-packages (from matplotlib->mediapipe) (3.0.9)\n",
      "Requirement already satisfied: python-dateutil>=2.7 in /Users/abhinavsingh/anaconda3/lib/python3.11/site-packages (from matplotlib->mediapipe) (2.8.2)\n",
      "Requirement already satisfied: pycparser in /Users/abhinavsingh/anaconda3/lib/python3.11/site-packages (from CFFI>=1.0->sounddevice>=0.4.4->mediapipe) (2.21)\n",
      "Requirement already satisfied: six>=1.5 in /Users/abhinavsingh/anaconda3/lib/python3.11/site-packages (from python-dateutil>=2.7->matplotlib->mediapipe) (1.16.0)\n"
     ]
    }
   ],
   "source": [
    "pip install mediapipe opencv-python numpy"
   ]
  },
  {
   "cell_type": "code",
   "execution_count": 1,
   "metadata": {},
   "outputs": [
    {
     "name": "stderr",
     "output_type": "stream",
     "text": [
      "WARNING: All log messages before absl::InitializeLog() is called are written to STDERR\n",
      "I0000 00:00:1741170972.731501 2332305 gl_context.cc:369] GL version: 2.1 (2.1 Metal - 89.3), renderer: Apple M1\n",
      "INFO: Created TensorFlow Lite XNNPACK delegate for CPU.\n",
      "W0000 00:00:1741170972.752965 2332443 inference_feedback_manager.cc:114] Feedback manager requires a model with a single signature inference. Disabling support for feedback tensors.\n",
      "W0000 00:00:1741170972.761331 2332443 inference_feedback_manager.cc:114] Feedback manager requires a model with a single signature inference. Disabling support for feedback tensors.\n",
      "2025-03-05 16:06:14.507 python[30045:2332305] +[IMKClient subclass]: chose IMKClient_Modern\n",
      "2025-03-05 16:06:14.507 python[30045:2332305] +[IMKInputSession subclass]: chose IMKInputSession_Modern\n"
     ]
    }
   ],
   "source": [
    "import cv2\n",
    "import mediapipe as mp\n",
    "import numpy as np\n",
    "\n",
    "# Initialize MediaPipe Hands\n",
    "mp_hands = mp.solutions.hands\n",
    "mp_drawing = mp.solutions.drawing_utils\n",
    "hands = mp_hands.Hands(min_detection_confidence=0.7, min_tracking_confidence=0.7)\n",
    "\n",
    "def compute_distance(point1, point2):\n",
    "    \"\"\"Calculate Euclidean distance between two hand landmarks.\"\"\"\n",
    "    return np.linalg.norm([point1.x - point2.x, point1.y - point2.y])\n",
    "\n",
    "def recognize_gesture(hand_landmarks):\n",
    "    \"\"\"Detect specific hand gestures based on landmark positions.\"\"\"\n",
    "    lm = mp_hands.HandLandmark\n",
    "    \n",
    "    thumb_tip, thumb_ip = hand_landmarks.landmark[lm.THUMB_TIP], hand_landmarks.landmark[lm.THUMB_IP]\n",
    "    index_tip, index_mcp = hand_landmarks.landmark[lm.INDEX_FINGER_TIP], hand_landmarks.landmark[lm.INDEX_FINGER_MCP]\n",
    "    middle_tip, middle_mcp = hand_landmarks.landmark[lm.MIDDLE_FINGER_TIP], hand_landmarks.landmark[lm.MIDDLE_FINGER_MCP]\n",
    "    ring_tip, pinky_tip = hand_landmarks.landmark[lm.RING_FINGER_TIP], hand_landmarks.landmark[lm.PINKY_TIP]\n",
    "    \n",
    "    fingertips = [index_tip, middle_tip, ring_tip, pinky_tip]\n",
    "    \n",
    "    if thumb_tip.y < thumb_ip.y and all(f.y > middle_mcp.y for f in fingertips):\n",
    "        return \"Thumbs Up\"\n",
    "    elif thumb_tip.y > thumb_ip.y and all(f.y > middle_mcp.y for f in fingertips):\n",
    "        return \"Thumbs Down\"\n",
    "    elif all(f.y < middle_mcp.y for f in fingertips) and thumb_tip.y < thumb_ip.y:\n",
    "        return \"Open Hand\"\n",
    "    elif all(f.y > middle_mcp.y for f in fingertips) and compute_distance(thumb_tip, index_tip) < 0.05:\n",
    "        return \"Fist\"\n",
    "    elif index_tip.y < index_mcp.y and all(f.y > middle_mcp.y for f in fingertips[1:]):\n",
    "        return \"Index Finger Up\"\n",
    "    elif index_tip.y < index_mcp.y and middle_tip.y < middle_mcp.y and all(f.y > middle_mcp.y for f in fingertips[2:]):\n",
    "        return \"Peace Sign\"\n",
    "    elif index_tip.y < index_mcp.y and pinky_tip.y < middle_mcp.y and all(f.y > middle_mcp.y for f in fingertips[1:3]):\n",
    "        return \"Rock Sign\"\n",
    "    elif compute_distance(thumb_tip, index_tip) < 0.05 and all(tip.y > middle_mcp.y for tip in [middle_tip, ring_tip, pinky_tip]):\n",
    "        return \"OK Sign\"\n",
    "    \n",
    "    return \"No Gesture Detected\"\n",
    "\n",
    "def main():\n",
    "    \"\"\"Start capturing video and detect hand gestures in real-time.\"\"\"\n",
    "    cap = cv2.VideoCapture(0)\n",
    "    \n",
    "    while cap.isOpened():\n",
    "        success, frame = cap.read()\n",
    "        if not success:\n",
    "            break\n",
    "        \n",
    "        frame = cv2.flip(frame, 1)  # Flip image for natural interaction\n",
    "        rgb_frame = cv2.cvtColor(frame, cv2.COLOR_BGR2RGB)\n",
    "        results = hands.process(rgb_frame)\n",
    "        \n",
    "        if results.multi_hand_landmarks:\n",
    "            for hand_landmarks in results.multi_hand_landmarks:\n",
    "                mp_drawing.draw_landmarks(frame, hand_landmarks, mp_hands.HAND_CONNECTIONS)\n",
    "                gesture = recognize_gesture(hand_landmarks)\n",
    "                cv2.putText(frame, gesture, (50, 50), cv2.FONT_HERSHEY_SIMPLEX, 1, (0, 255, 0), 2)\n",
    "                \n",
    "                if gesture == \"Fist\":\n",
    "                    cap.release()\n",
    "                    cv2.destroyAllWindows()\n",
    "                    return\n",
    "        \n",
    "        cv2.imshow('Hand Gesture Recognition', frame)\n",
    "        \n",
    "        if cv2.waitKey(1) & 0xFF == ord('q'):\n",
    "            break\n",
    "    \n",
    "    cap.release()\n",
    "    cv2.destroyAllWindows()\n",
    "\n",
    "if __name__ == \"__main__\":\n",
    "    main()\n"
   ]
  },
  {
   "cell_type": "code",
   "execution_count": null,
   "metadata": {},
   "outputs": [],
   "source": []
  }
 ],
 "metadata": {
  "kernelspec": {
   "display_name": "base",
   "language": "python",
   "name": "python3"
  },
  "language_info": {
   "codemirror_mode": {
    "name": "ipython",
    "version": 3
   },
   "file_extension": ".py",
   "mimetype": "text/x-python",
   "name": "python",
   "nbconvert_exporter": "python",
   "pygments_lexer": "ipython3",
   "version": "3.11.5"
  }
 },
 "nbformat": 4,
 "nbformat_minor": 2
}
